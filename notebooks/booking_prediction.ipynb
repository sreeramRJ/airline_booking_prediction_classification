{
 "cells": [
  {
   "cell_type": "code",
   "execution_count": 52,
   "metadata": {},
   "outputs": [],
   "source": [
    "import pandas as pd\n",
    "from datetime import datetime\n",
    "import numpy as np"
   ]
  },
  {
   "cell_type": "code",
   "execution_count": 3,
   "metadata": {},
   "outputs": [],
   "source": [
    "import matplotlib.pyplot as plt\n",
    "import seaborn as sns\n",
    "%matplotlib inline\n",
    "import warnings\n",
    "warnings.filterwarnings('ignore')"
   ]
  },
  {
   "cell_type": "code",
   "execution_count": 38,
   "metadata": {},
   "outputs": [],
   "source": [
    "from sklearn.preprocessing import LabelEncoder\n",
    "from sklearn.preprocessing import OneHotEncoder\n",
    "from sklearn.model_selection import train_test_split\n",
    "from imblearn.over_sampling import SMOTE\n",
    "import lightgbm as lgb"
   ]
  },
  {
   "cell_type": "code",
   "execution_count": 5,
   "metadata": {},
   "outputs": [],
   "source": [
    "from sklearn.metrics import classification_report\n",
    "from sklearn.metrics import confusion_matrix  \n",
    "from sklearn.metrics import accuracy_score"
   ]
  },
  {
   "cell_type": "code",
   "execution_count": 7,
   "metadata": {},
   "outputs": [],
   "source": [
    "from sklearn.feature_selection import SelectKBest\n",
    "from sklearn.feature_selection import chi2"
   ]
  },
  {
   "cell_type": "code",
   "execution_count": 53,
   "metadata": {},
   "outputs": [],
   "source": [
    "# function to read inputs and merge\n",
    "def data_read():\n",
    "    iata = pd.read_csv('../data/iata_1_1.csv')\n",
    "    events = pd.read_csv('../data/events_1_1.csv.gz')\n",
    "    merged_data = events.merge(iata,left_on='origin',right_on='iata_code').drop('iata_code',axis=1)\n",
    "    merged_data = merged_data.rename(columns={'lat':'origin_lat','lon':'origin_lon'})\n",
    "    merged_data = merged_data.merge(iata,left_on='destination',right_on='iata_code').drop('iata_code',axis=1)\n",
    "    merged_data = merged_data.rename(columns={'lat':'destination_lat','lon':'destination_lon'})\n",
    "    return merged_data"
   ]
  },
  {
   "cell_type": "code",
   "execution_count": 54,
   "metadata": {},
   "outputs": [],
   "source": [
    "#read input\n",
    "booking_data = data_read()"
   ]
  },
  {
   "cell_type": "code",
   "execution_count": 111,
   "metadata": {},
   "outputs": [
    {
     "data": {
      "text/plain": [
       "ts                  object\n",
       "event_type          object\n",
       "user_id             object\n",
       "date_from           object\n",
       "date_to             object\n",
       "origin              object\n",
       "destination         object\n",
       "num_adults           int64\n",
       "num_children         int64\n",
       "origin_lat         float64\n",
       "origin_lon         float64\n",
       "destination_lat    float64\n",
       "destination_lon    float64\n",
       "dtype: object"
      ]
     },
     "execution_count": 111,
     "metadata": {},
     "output_type": "execute_result"
    }
   ],
   "source": [
    "booking_data.dtypes"
   ]
  },
  {
   "cell_type": "code",
   "execution_count": 55,
   "metadata": {},
   "outputs": [
    {
     "data": {
      "text/plain": [
       "ts                  0\n",
       "event_type          0\n",
       "user_id             0\n",
       "date_from          84\n",
       "date_to            12\n",
       "origin              0\n",
       "destination         0\n",
       "num_adults          0\n",
       "num_children        0\n",
       "origin_lat          0\n",
       "origin_lon          0\n",
       "destination_lat     0\n",
       "destination_lon     0\n",
       "dtype: int64"
      ]
     },
     "execution_count": 55,
     "metadata": {},
     "output_type": "execute_result"
    }
   ],
   "source": [
    "#check for NaN/NULL values\n",
    "booking_data.isnull().sum()"
   ]
  },
  {
   "cell_type": "code",
   "execution_count": 56,
   "metadata": {},
   "outputs": [],
   "source": [
    "#drop all NULL value records since it is not high in number\n",
    "booking_data = booking_data.dropna()"
   ]
  },
  {
   "cell_type": "code",
   "execution_count": 57,
   "metadata": {},
   "outputs": [],
   "source": [
    "#function to calculate the geo-distance between 2 lat-lon co-ordinates\n",
    "def haversine_vectorize(lon1, lat1, lon2, lat2):\n",
    "\n",
    "    lon1, lat1, lon2, lat2 = map(np.radians, [lon1, lat1, lon2, lat2])\n",
    "\n",
    "    newlon = lon2 - lon1\n",
    "    newlat = lat2 - lat1\n",
    "\n",
    "    haver_formula = np.sin(newlat/2.0)**2 + np.cos(lat1) * np.cos(lat2) * np.sin(newlon/2.0)**2\n",
    "\n",
    "    dist = 2 * np.arcsin(np.sqrt(haver_formula ))\n",
    "    km = 6367 * dist #6367 for distance in KM for miles use 3958\n",
    "    return km"
   ]
  },
  {
   "cell_type": "code",
   "execution_count": 58,
   "metadata": {},
   "outputs": [],
   "source": [
    "#calculate geo_distance and assign as a new column\n",
    "booking_data['geo_distance(km)'] = haversine_vectorize(booking_data['origin_lon'],booking_data['origin_lat'],booking_data['destination_lon'],booking_data['destination_lat'])"
   ]
  },
  {
   "cell_type": "code",
   "execution_count": 62,
   "metadata": {},
   "outputs": [
    {
     "data": {
      "text/plain": [
       "236"
      ]
     },
     "execution_count": 62,
     "metadata": {},
     "output_type": "execute_result"
    }
   ],
   "source": [
    "booking_data['origin'].value_counts().count()"
   ]
  },
  {
   "cell_type": "code",
   "execution_count": 63,
   "metadata": {},
   "outputs": [],
   "source": [
    "# This method is responsible to calculate the number of days between 2 dates.\n",
    "def no_of_days(date_from,looking_on):\n",
    "    date_format = \"%Y-%m-%d\"\n",
    "    a = datetime.strptime(looking_on, date_format)\n",
    "    b = datetime.strptime(date_from, date_format)\n",
    "    delta = b - a #days\n",
    "    return delta.days"
   ]
  },
  {
   "cell_type": "code",
   "execution_count": 64,
   "metadata": {},
   "outputs": [],
   "source": [
    "# This feature 'days_before_plan' will be used to calculate the no of days before the user is planning to book/search for a flight.\n",
    "booking_data['look_on']=booking_data['ts'].str.split(\" \", n = 1, expand = True)[0]        \n",
    "booking_data['days_before_plan'] = booking_data.apply(lambda row : no_of_days(row['date_from'], row['look_on']), axis = 1)"
   ]
  },
  {
   "cell_type": "code",
   "execution_count": 65,
   "metadata": {},
   "outputs": [],
   "source": [
    "# This feature 'trip_duration' represents for how many days the trip was planned for\n",
    "booking_data['trip_duration'] = booking_data.apply(lambda row : no_of_days(row['date_to'], row['date_from']), axis = 1)"
   ]
  },
  {
   "cell_type": "code",
   "execution_count": 83,
   "metadata": {},
   "outputs": [
    {
     "data": {
      "text/html": [
       "<div>\n",
       "<style scoped>\n",
       "    .dataframe tbody tr th:only-of-type {\n",
       "        vertical-align: middle;\n",
       "    }\n",
       "\n",
       "    .dataframe tbody tr th {\n",
       "        vertical-align: top;\n",
       "    }\n",
       "\n",
       "    .dataframe thead th {\n",
       "        text-align: right;\n",
       "    }\n",
       "</style>\n",
       "<table border=\"1\" class=\"dataframe\">\n",
       "  <thead>\n",
       "    <tr style=\"text-align: right;\">\n",
       "      <th></th>\n",
       "      <th>ts</th>\n",
       "      <th>event_type</th>\n",
       "      <th>user_id</th>\n",
       "      <th>date_from</th>\n",
       "      <th>date_to</th>\n",
       "      <th>origin</th>\n",
       "      <th>destination</th>\n",
       "      <th>num_adults</th>\n",
       "      <th>num_children</th>\n",
       "      <th>origin_lat</th>\n",
       "      <th>...</th>\n",
       "      <th>geo_distance(km)</th>\n",
       "      <th>look_on</th>\n",
       "      <th>days_before_plan</th>\n",
       "      <th>trip_duration</th>\n",
       "      <th>activity_month</th>\n",
       "      <th>travel_start_month</th>\n",
       "      <th>activity_hour</th>\n",
       "      <th>origin_enc</th>\n",
       "      <th>destination_enc</th>\n",
       "      <th>event_type_enc</th>\n",
       "    </tr>\n",
       "  </thead>\n",
       "  <tbody>\n",
       "    <tr>\n",
       "      <th>0</th>\n",
       "      <td>2017-04-27 11:06:51</td>\n",
       "      <td>search</td>\n",
       "      <td>60225f</td>\n",
       "      <td>2017-06-01</td>\n",
       "      <td>2017-06-07</td>\n",
       "      <td>PAR</td>\n",
       "      <td>NYC</td>\n",
       "      <td>6</td>\n",
       "      <td>1</td>\n",
       "      <td>48.85</td>\n",
       "      <td>...</td>\n",
       "      <td>5834.154716</td>\n",
       "      <td>2017-04-27</td>\n",
       "      <td>35</td>\n",
       "      <td>6</td>\n",
       "      <td>4</td>\n",
       "      <td>6</td>\n",
       "      <td>11</td>\n",
       "      <td>166</td>\n",
       "      <td>178</td>\n",
       "      <td>1</td>\n",
       "    </tr>\n",
       "    <tr>\n",
       "      <th>1</th>\n",
       "      <td>2017-04-29 21:24:06</td>\n",
       "      <td>search</td>\n",
       "      <td>b32ef3</td>\n",
       "      <td>2017-05-02</td>\n",
       "      <td>2017-05-08</td>\n",
       "      <td>PAR</td>\n",
       "      <td>NYC</td>\n",
       "      <td>1</td>\n",
       "      <td>0</td>\n",
       "      <td>48.85</td>\n",
       "      <td>...</td>\n",
       "      <td>5834.154716</td>\n",
       "      <td>2017-04-29</td>\n",
       "      <td>3</td>\n",
       "      <td>6</td>\n",
       "      <td>4</td>\n",
       "      <td>5</td>\n",
       "      <td>21</td>\n",
       "      <td>166</td>\n",
       "      <td>178</td>\n",
       "      <td>1</td>\n",
       "    </tr>\n",
       "    <tr>\n",
       "      <th>2</th>\n",
       "      <td>2017-04-27 21:14:19</td>\n",
       "      <td>search</td>\n",
       "      <td>565d54</td>\n",
       "      <td>2017-06-01</td>\n",
       "      <td>2017-06-18</td>\n",
       "      <td>PAR</td>\n",
       "      <td>NYC</td>\n",
       "      <td>3</td>\n",
       "      <td>1</td>\n",
       "      <td>48.85</td>\n",
       "      <td>...</td>\n",
       "      <td>5834.154716</td>\n",
       "      <td>2017-04-27</td>\n",
       "      <td>35</td>\n",
       "      <td>17</td>\n",
       "      <td>4</td>\n",
       "      <td>6</td>\n",
       "      <td>21</td>\n",
       "      <td>166</td>\n",
       "      <td>178</td>\n",
       "      <td>1</td>\n",
       "    </tr>\n",
       "    <tr>\n",
       "      <th>3</th>\n",
       "      <td>2017-04-21 11:50:02</td>\n",
       "      <td>search</td>\n",
       "      <td>6d7b79</td>\n",
       "      <td>2017-08-23</td>\n",
       "      <td>2017-09-13</td>\n",
       "      <td>PAR</td>\n",
       "      <td>NYC</td>\n",
       "      <td>2</td>\n",
       "      <td>2</td>\n",
       "      <td>48.85</td>\n",
       "      <td>...</td>\n",
       "      <td>5834.154716</td>\n",
       "      <td>2017-04-21</td>\n",
       "      <td>124</td>\n",
       "      <td>21</td>\n",
       "      <td>4</td>\n",
       "      <td>8</td>\n",
       "      <td>11</td>\n",
       "      <td>166</td>\n",
       "      <td>178</td>\n",
       "      <td>1</td>\n",
       "    </tr>\n",
       "    <tr>\n",
       "      <th>4</th>\n",
       "      <td>2017-04-21 18:05:01</td>\n",
       "      <td>search</td>\n",
       "      <td>60225f</td>\n",
       "      <td>2017-06-01</td>\n",
       "      <td>2017-06-07</td>\n",
       "      <td>PAR</td>\n",
       "      <td>NYC</td>\n",
       "      <td>6</td>\n",
       "      <td>1</td>\n",
       "      <td>48.85</td>\n",
       "      <td>...</td>\n",
       "      <td>5834.154716</td>\n",
       "      <td>2017-04-21</td>\n",
       "      <td>41</td>\n",
       "      <td>6</td>\n",
       "      <td>4</td>\n",
       "      <td>6</td>\n",
       "      <td>18</td>\n",
       "      <td>166</td>\n",
       "      <td>178</td>\n",
       "      <td>1</td>\n",
       "    </tr>\n",
       "  </tbody>\n",
       "</table>\n",
       "<p>5 rows × 23 columns</p>\n",
       "</div>"
      ],
      "text/plain": [
       "                    ts event_type user_id   date_from     date_to origin  \\\n",
       "0  2017-04-27 11:06:51     search  60225f  2017-06-01  2017-06-07    PAR   \n",
       "1  2017-04-29 21:24:06     search  b32ef3  2017-05-02  2017-05-08    PAR   \n",
       "2  2017-04-27 21:14:19     search  565d54  2017-06-01  2017-06-18    PAR   \n",
       "3  2017-04-21 11:50:02     search  6d7b79  2017-08-23  2017-09-13    PAR   \n",
       "4  2017-04-21 18:05:01     search  60225f  2017-06-01  2017-06-07    PAR   \n",
       "\n",
       "  destination  num_adults  num_children  origin_lat  ...  geo_distance(km)  \\\n",
       "0         NYC           6             1       48.85  ...       5834.154716   \n",
       "1         NYC           1             0       48.85  ...       5834.154716   \n",
       "2         NYC           3             1       48.85  ...       5834.154716   \n",
       "3         NYC           2             2       48.85  ...       5834.154716   \n",
       "4         NYC           6             1       48.85  ...       5834.154716   \n",
       "\n",
       "      look_on  days_before_plan  trip_duration activity_month  \\\n",
       "0  2017-04-27                35              6              4   \n",
       "1  2017-04-29                 3              6              4   \n",
       "2  2017-04-27                35             17              4   \n",
       "3  2017-04-21               124             21              4   \n",
       "4  2017-04-21                41              6              4   \n",
       "\n",
       "   travel_start_month  activity_hour  origin_enc  destination_enc  \\\n",
       "0                   6             11         166              178   \n",
       "1                   5             21         166              178   \n",
       "2                   6             21         166              178   \n",
       "3                   8             11         166              178   \n",
       "4                   6             18         166              178   \n",
       "\n",
       "   event_type_enc  \n",
       "0               1  \n",
       "1               1  \n",
       "2               1  \n",
       "3               1  \n",
       "4               1  \n",
       "\n",
       "[5 rows x 23 columns]"
      ]
     },
     "execution_count": 83,
     "metadata": {},
     "output_type": "execute_result"
    }
   ],
   "source": [
    "booking_data.head()"
   ]
  },
  {
   "cell_type": "code",
   "execution_count": 66,
   "metadata": {},
   "outputs": [],
   "source": [
    "#Extract search/book activity month and hour, travel start date month as these features might give an indication of seasonality to the model\n",
    "booking_data['activity_month'] = pd.to_datetime(booking_data['ts']).dt.month\n",
    "booking_data['travel_start_month'] = pd.to_datetime(booking_data['date_from']).dt.month\n",
    "booking_data['activity_hour'] = pd.to_datetime(booking_data['ts']).dt.hour"
   ]
  },
  {
   "cell_type": "code",
   "execution_count": 87,
   "metadata": {},
   "outputs": [
    {
     "data": {
      "image/png": "[encoded data removed]",
      "text/plain": [
       "<Figure size 432x288 with 1 Axes>"
      ]
     },
     "metadata": {},
     "output_type": "display_data"
    }
   ],
   "source": [
    "%matplotlib inline\n",
    "import seaborn as sns\n",
    "import matplotlib.pyplot as plt\n",
    "activity_book = booking_data.loc[booking_data['event_type'] == 'book','activity_month'].value_counts()\n",
    "sns.set(style=\"darkgrid\")\n",
    "sns.barplot(activity_book.index, activity_book.values, alpha=0.9)\n",
    "plt.title('Frequency Distribution of Activity(in months)')\n",
    "plt.ylabel('Number of Occurrences', fontsize=12)\n",
    "plt.xlabel('Month', fontsize=12)\n",
    "plt.show()"
   ]
  },
  {
   "cell_type": "code",
   "execution_count": 86,
   "metadata": {},
   "outputs": [
    {
     "data": {
      "image/png": "[encoded data removed]",
      "text/plain": [
       "<Figure size 432x288 with 1 Axes>"
      ]
     },
     "metadata": {},
     "output_type": "display_data"
    }
   ],
   "source": [
    "travel = booking_data.loc[booking_data['event_type'] == 'book','travel_start_month'].value_counts()\n",
    "sns.set(style=\"darkgrid\")\n",
    "sns.barplot(travel.index, travel.values, alpha=0.9)\n",
    "plt.title('Frequency Distribution of Travel month')\n",
    "plt.ylabel('Number of Occurrences', fontsize=12)\n",
    "plt.xlabel('Month', fontsize=12)\n",
    "plt.show()"
   ]
  },
  {
   "cell_type": "code",
   "execution_count": 79,
   "metadata": {},
   "outputs": [
    {
     "data": {
      "image/png": "[encoded data removed]",
      "text/plain": [
       "<Figure size 432x288 with 1 Axes>"
      ]
     },
     "metadata": {},
     "output_type": "display_data"
    }
   ],
   "source": [
    "travel = booking_data.loc[booking_data['event_type'] == 'book','activity_hour'].value_counts()\n",
    "sns.set(style=\"darkgrid\")\n",
    "sns.barplot(travel.index, travel.values, alpha=0.9)\n",
    "plt.title('Frequency Distribution of Activity(in hour)')\n",
    "plt.ylabel('Number of Occurrences', fontsize=12)\n",
    "plt.xlabel('Hour', fontsize=12)\n",
    "plt.show()"
   ]
  },
  {
   "cell_type": "code",
   "execution_count": 18,
   "metadata": {},
   "outputs": [],
   "source": [
    "# Encoding origin column\n",
    "le = LabelEncoder()\n",
    "le.fit(booking_data['origin'])\n",
    "origin_name_mapping = dict(zip(le.transform(le.classes_), le.classes_))\n",
    "booking_data['origin_enc'] = le.transform(booking_data['origin'])\n",
    "\n",
    "#Encoding destination column\n",
    "le = LabelEncoder()\n",
    "le.fit(booking_data['destination'])\n",
    "destination_name_mapping = dict(zip(le.transform(le.classes_), le.classes_))\n",
    "booking_data['destination_enc'] = le.transform(booking_data['destination'])\n",
    "        \n",
    "# Encoding our label column i.e 'event_type'\n",
    "le = LabelEncoder()\n",
    "le.fit(booking_data['event_type'])\n",
    "event_type_name_mapping = dict(zip(le.transform(le.classes_), le.classes_))\n",
    "booking_data['event_type_enc'] = le.transform(booking_data['event_type'])"
   ]
  },
  {
   "cell_type": "code",
   "execution_count": 19,
   "metadata": {},
   "outputs": [],
   "source": [
    "# Removing unwanted columns\n",
    "booking_data.drop(['date_from','date_to','look_on','origin','destination','event_type','ts','user_id','origin_lat','origin_lon','destination_lat','destination_lon'],axis=1,inplace=True)"
   ]
  },
  {
   "cell_type": "code",
   "execution_count": 85,
   "metadata": {},
   "outputs": [
    {
     "data": {
      "text/html": [
       "<div>\n",
       "<style scoped>\n",
       "    .dataframe tbody tr th:only-of-type {\n",
       "        vertical-align: middle;\n",
       "    }\n",
       "\n",
       "    .dataframe tbody tr th {\n",
       "        vertical-align: top;\n",
       "    }\n",
       "\n",
       "    .dataframe thead th {\n",
       "        text-align: right;\n",
       "    }\n",
       "</style>\n",
       "<table border=\"1\" class=\"dataframe\">\n",
       "  <thead>\n",
       "    <tr style=\"text-align: right;\">\n",
       "      <th></th>\n",
       "      <th>num_adults</th>\n",
       "      <th>num_children</th>\n",
       "      <th>geo_distance(km)</th>\n",
       "      <th>days_before_plan</th>\n",
       "      <th>trip_duration</th>\n",
       "      <th>activity_month</th>\n",
       "      <th>travel_start_month</th>\n",
       "      <th>activity_hour</th>\n",
       "      <th>origin_enc</th>\n",
       "      <th>destination_enc</th>\n",
       "      <th>event_type_enc</th>\n",
       "    </tr>\n",
       "  </thead>\n",
       "  <tbody>\n",
       "    <tr>\n",
       "      <th>0</th>\n",
       "      <td>6</td>\n",
       "      <td>1</td>\n",
       "      <td>5834.154716</td>\n",
       "      <td>35</td>\n",
       "      <td>6</td>\n",
       "      <td>4</td>\n",
       "      <td>6</td>\n",
       "      <td>11</td>\n",
       "      <td>166</td>\n",
       "      <td>178</td>\n",
       "      <td>1</td>\n",
       "    </tr>\n",
       "    <tr>\n",
       "      <th>1</th>\n",
       "      <td>1</td>\n",
       "      <td>0</td>\n",
       "      <td>5834.154716</td>\n",
       "      <td>3</td>\n",
       "      <td>6</td>\n",
       "      <td>4</td>\n",
       "      <td>5</td>\n",
       "      <td>21</td>\n",
       "      <td>166</td>\n",
       "      <td>178</td>\n",
       "      <td>1</td>\n",
       "    </tr>\n",
       "    <tr>\n",
       "      <th>2</th>\n",
       "      <td>3</td>\n",
       "      <td>1</td>\n",
       "      <td>5834.154716</td>\n",
       "      <td>35</td>\n",
       "      <td>17</td>\n",
       "      <td>4</td>\n",
       "      <td>6</td>\n",
       "      <td>21</td>\n",
       "      <td>166</td>\n",
       "      <td>178</td>\n",
       "      <td>1</td>\n",
       "    </tr>\n",
       "    <tr>\n",
       "      <th>3</th>\n",
       "      <td>2</td>\n",
       "      <td>2</td>\n",
       "      <td>5834.154716</td>\n",
       "      <td>124</td>\n",
       "      <td>21</td>\n",
       "      <td>4</td>\n",
       "      <td>8</td>\n",
       "      <td>11</td>\n",
       "      <td>166</td>\n",
       "      <td>178</td>\n",
       "      <td>1</td>\n",
       "    </tr>\n",
       "    <tr>\n",
       "      <th>4</th>\n",
       "      <td>6</td>\n",
       "      <td>1</td>\n",
       "      <td>5834.154716</td>\n",
       "      <td>41</td>\n",
       "      <td>6</td>\n",
       "      <td>4</td>\n",
       "      <td>6</td>\n",
       "      <td>18</td>\n",
       "      <td>166</td>\n",
       "      <td>178</td>\n",
       "      <td>1</td>\n",
       "    </tr>\n",
       "  </tbody>\n",
       "</table>\n",
       "</div>"
      ],
      "text/plain": [
       "   num_adults  num_children  geo_distance(km)  days_before_plan  \\\n",
       "0           6             1       5834.154716                35   \n",
       "1           1             0       5834.154716                 3   \n",
       "2           3             1       5834.154716                35   \n",
       "3           2             2       5834.154716               124   \n",
       "4           6             1       5834.154716                41   \n",
       "\n",
       "   trip_duration  activity_month  travel_start_month  activity_hour  \\\n",
       "0              6               4                   6             11   \n",
       "1              6               4                   5             21   \n",
       "2             17               4                   6             21   \n",
       "3             21               4                   8             11   \n",
       "4              6               4                   6             18   \n",
       "\n",
       "   origin_enc  destination_enc  event_type_enc  \n",
       "0         166              178               1  \n",
       "1         166              178               1  \n",
       "2         166              178               1  \n",
       "3         166              178               1  \n",
       "4         166              178               1  "
      ]
     },
     "execution_count": 85,
     "metadata": {},
     "output_type": "execute_result"
    }
   ],
   "source": [
    "booking_data.head()"
   ]
  },
  {
   "cell_type": "code",
   "execution_count": 20,
   "metadata": {},
   "outputs": [],
   "source": [
    "#remove records where 'days_before_plan' is negative as it is meaningless\n",
    "booking_data = booking_data.loc[booking_data['days_before_plan'] > 0]"
   ]
  },
  {
   "cell_type": "code",
   "execution_count": 29,
   "metadata": {},
   "outputs": [
    {
     "data": {
      "text/plain": [
       "Text(0, 0.5, 'Frequency')"
      ]
     },
     "execution_count": 29,
     "metadata": {},
     "output_type": "execute_result"
    },
    {
     "data": {
      "image/png": "[encoded data removed]",
      "text/plain": [
       "<Figure size 432x288 with 1 Axes>"
      ]
     },
     "metadata": {
      "needs_background": "light"
     },
     "output_type": "display_data"
    }
   ],
   "source": [
    "#check the distribution of search and book in event_type column\n",
    "count_classes = pd.value_counts(booking_data['event_type_enc'], sort = True).sort_index()\n",
    "count_classes.plot(kind = 'bar')\n",
    "plt.title(\"Booking or Not booking\")\n",
    "plt.xlabel(\"Class\")\n",
    "plt.ylabel(\"Frequency\")"
   ]
  },
  {
   "cell_type": "code",
   "execution_count": 40,
   "metadata": {},
   "outputs": [],
   "source": [
    "#split the dataset into independant and dependant features for model training and validation\n",
    "X = booking_data.loc[:, booking_data.columns != 'event_type_enc']\n",
    "y = booking_data.loc[:, booking_data.columns == 'event_type_enc']"
   ]
  },
  {
   "cell_type": "code",
   "execution_count": 145,
   "metadata": {},
   "outputs": [
    {
     "data": {
      "text/plain": [
       "num_adults              int64\n",
       "num_children            int64\n",
       "geo_distance(km)      float64\n",
       "days_before_plan        int64\n",
       "trip_duration           int64\n",
       "activity_month          int64\n",
       "travel_start_month      int64\n",
       "activity_hour           int64\n",
       "origin_enc              int32\n",
       "destination_enc         int32\n",
       "dtype: object"
      ]
     },
     "execution_count": 145,
     "metadata": {},
     "output_type": "execute_result"
    }
   ],
   "source": [
    "X.dtypes"
   ]
  },
  {
   "cell_type": "code",
   "execution_count": 41,
   "metadata": {},
   "outputs": [],
   "source": [
    "# Feature selection using chi-squared method\n",
    "X_train, X_test, y_train, y_test = train_test_split(X, y, test_size=0.3, random_state=1)\n",
    "fs = SelectKBest(score_func=chi2, k='all')\n",
    "fs.fit(X_train, y_train)\n",
    "X_train_fs = fs.transform(X_train)\n",
    "X_test_fs = fs.transform(X_test)"
   ]
  },
  {
   "cell_type": "code",
   "execution_count": 42,
   "metadata": {},
   "outputs": [
    {
     "name": "stdout",
     "output_type": "stream",
     "text": [
      "Feature 0: 8.187932\n",
      "Feature 1: 14.395242\n",
      "Feature 2: 746511.368741\n",
      "Feature 3: 10068.594753\n",
      "Feature 4: 1756.187181\n",
      "Feature 5: 0.001288\n",
      "Feature 6: 51.755570\n",
      "Feature 7: 3.447784\n",
      "Feature 8: 566.877852\n",
      "Feature 9: 46.678883\n"
     ]
    }
   ],
   "source": [
    "# what are scores for the features\n",
    "for i in range(len(fs.scores_)):\n",
    "    print('Feature %d: %f' % (i, fs.scores_[i]))"
   ]
  },
  {
   "cell_type": "code",
   "execution_count": 49,
   "metadata": {
    "scrolled": true
   },
   "outputs": [],
   "source": [
    "# Handling unbalanced dataset with SMOTE oversampling technique\n",
    "X_train, X_test, y_train, y_test = train_test_split(X, y, test_size=0.3, random_state=1)\n",
    "sm = SMOTE(random_state=12)\n",
    "x_train_res, y_train_res = sm.fit_sample(X_train, y_train)"
   ]
  },
  {
   "cell_type": "code",
   "execution_count": 50,
   "metadata": {},
   "outputs": [
    {
     "name": "stdout",
     "output_type": "stream",
     "text": [
      "Training until validation scores don't improve for 10 rounds\n",
      "[50]\tvalid_0's binary_logloss: 0.431709\n",
      "[100]\tvalid_0's binary_logloss: 0.379124\n",
      "Did not meet early stopping. Best iteration is:\n",
      "[100]\tvalid_0's binary_logloss: 0.379124\n",
      "\n",
      "LGBMClassifier(custom_metric=['Accuracy', 'AUC'], eval_metric='F1',\n",
      "               loss_function='binary_logloss')\n",
      "\n",
      "              precision    recall  f1-score   support\n",
      "\n",
      "        book       0.10      0.45      0.16      1558\n",
      "    not_book       0.97      0.84      0.90     38098\n",
      "\n",
      "    accuracy                           0.82     39656\n",
      "   macro avg       0.54      0.64      0.53     39656\n",
      "weighted avg       0.94      0.82      0.87     39656\n",
      "\n",
      "\n",
      "[[  694   864]\n",
      " [ 6268 31830]]\n"
     ]
    }
   ],
   "source": [
    "# fit a lightGBM classifier model to the data\n",
    "# Why LightGBM? - It works great with categorical features\n",
    "# categorical_feature = ['activity_month','origin_enc','destination_enc','travel_start_month','activity_hour']\n",
    "model = lgb.LGBMClassifier(loss_function= 'binary_logloss', custom_metric=['Accuracy','AUC'],eval_metric='F1')\n",
    "model.fit(x_train_res, y_train_res, eval_set=(X_test, y_test), feature_name='auto', categorical_feature = ['activity_month','origin_enc','destination_enc','travel_start_month','activity_hour'], verbose=50, early_stopping_rounds=10)\n",
    "print(); print(model)\n",
    "# make predictions\n",
    "expected_y  = y_test\n",
    "y_pred = model.predict(X_test)\n",
    "# summarize the fit of the model\n",
    "target_names = ['book', 'not_book']\n",
    "print(); print(classification_report(expected_y, y_pred,target_names=target_names))\n",
    "print(); print(confusion_matrix(expected_y, y_pred))"
   ]
  },
  {
   "cell_type": "raw",
   "metadata": {},
   "source": [
    "### LightGBM is able to correctly predict most of the 'Non-Book' cases while not so efficient with 'Book' cases\n",
    " --- Possible solution is to try different algorithms that can classify mainly 'book' cases correctly (ie) Recall of more than 0.50 or improved f1-score"
   ]
  }
 ],
 "metadata": {
  "kernelspec": {
   "display_name": "Python 3",
   "language": "python",
   "name": "python3"
  },
  "language_info": {
   "codemirror_mode": {
    "name": "ipython",
    "version": 3
   },
   "file_extension": ".py",
   "mimetype": "text/x-python",
   "name": "python",
   "nbconvert_exporter": "python",
   "pygments_lexer": "ipython3",
   "version": "3.7.3"
  }
 },
 "nbformat": 4,
 "nbformat_minor": 2
}
